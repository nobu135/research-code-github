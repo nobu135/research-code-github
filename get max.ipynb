{
 "cells": [
  {
   "cell_type": "code",
   "execution_count": 22,
   "metadata": {},
   "outputs": [],
   "source": [
    "import csv\n",
    "import numpy as np\n",
    "import pandas as pd\n",
    "count_row = 0\n",
    "tag_ant1 = [0]*10000\n",
    "max1 = [0] *13\n",
    "max2 = []\n",
    "tag_list = {\"Class\":0,\"tag1\":1, \"tag2\":2, \"tag3\":3, \"tag4\":4, \"tag24\":5, \"tag25\":6, \"tag26\":7, \n",
    "            \"tag27\":8, \"tag1ps\":9,\"tag2ps\":10, \"tag3ps\":11, \"tag4ps\":12}\n",
    "tag_name = [\"Class\", \"tag1\" ,\"tag2\", \"tag3\", \"tag4\", \"tag24\", \"tag25\", \"tag26\", \n",
    "            \"tag27\", \"tag1ps\",\"tag2ps\", \"tag3ps\", \"tag4ps\"]"
   ]
  },
  {
   "cell_type": "code",
   "execution_count": 23,
   "metadata": {},
   "outputs": [],
   "source": [
    "def Maxfunction (tag, Max_tag, start, size, back):\n",
    "    if len(tag) < start + size:\n",
    "        return 0\n",
    "    \n",
    "    Max_tag.append(max((tag[start:start+size])))\n",
    "        \n",
    "#     print(max_values)\n",
    "    Maxfunction(tag, Max_tag, start + size - back, size, back)"
   ]
  },
  {
   "cell_type": "code",
   "execution_count": 24,
   "metadata": {},
   "outputs": [
    {
     "name": "stdout",
     "output_type": "stream",
     "text": [
      "C:\\Users\\nobuh\\Google Drive\\M1\\Research\\Experiments\\Data\\cleaned\\Complete\\file\\binning\n"
     ]
    }
   ],
   "source": [
    "cd C:/Users/nobuh/Google Drive/M1/Research/Experiments/2020/0611/New/Cleaned"
   ]
  },
  {
   "cell_type": "code",
   "execution_count": 33,
   "metadata": {},
   "outputs": [
    {
     "name": "stdout",
     "output_type": "stream",
     "text": [
      "750\n",
      "13\n",
      "4.6875\n"
     ]
    }
   ],
   "source": [
    "with open('takatou fall max.csv', 'w+', newline = \"\") as edit:\n",
    "    writer = csv.writer(edit)\n",
    "    writer.writerow([\"Class\",\"tag1\",\"tag2\",\"tag3\",\"tag4\",\"tag24\",\"tag25\",\"tag26\",\"tag27\",\"tag1ps\",\"tag2ps\",\"tag3ps\",\"tag4ps\",])\n",
    "    with open('takatou fall.csv') as csvfile:\n",
    "        reader = csv.reader(csvfile)\n",
    "        \n",
    "        \n",
    "        data = list(reader)\n",
    "        count_row = len(data)-1\n",
    "        print(count_row)\n",
    "        #print(type(data[0]))\n",
    "\n",
    "        tag = [[0 for i in range(count_row)] for j in range(len(tag_name))]\n",
    "        print(len(tag))\n",
    "\n",
    "        for i in range(len(tag_name)):\n",
    "            for j in range(count_row):\n",
    "                tag[i][j] = float(data[j+1][i])\n",
    "\n",
    "        Max_tag = [[] for i in range(len(tag))]\n",
    "\n",
    "        for i in range(len(tag)):            \n",
    "            Maxfunction(tag[i], Max_tag[i], 0, int(count_row/160), 2)\n",
    "        writer.writerows(np.transpose(Max_tag))\n",
    "\n",
    "        print(count_row/160)\n",
    "\n",
    "\n"
   ]
  },
  {
   "cell_type": "code",
   "execution_count": null,
   "metadata": {},
   "outputs": [],
   "source": []
  }
 ],
 "metadata": {
  "kernelspec": {
   "display_name": "Python 3",
   "language": "python",
   "name": "python3"
  },
  "language_info": {
   "codemirror_mode": {
    "name": "ipython",
    "version": 3
   },
   "file_extension": ".py",
   "mimetype": "text/x-python",
   "name": "python",
   "nbconvert_exporter": "python",
   "pygments_lexer": "ipython3",
   "version": "3.7.4"
  }
 },
 "nbformat": 4,
 "nbformat_minor": 2
}
