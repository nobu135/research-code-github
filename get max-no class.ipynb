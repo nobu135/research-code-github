{
 "cells": [
  {
   "cell_type": "code",
   "execution_count": 15,
   "metadata": {},
   "outputs": [],
   "source": [
    "import csv\n",
    "import numpy as np\n",
    "import pandas as pd\n",
    "count_row = 0\n",
    "tag_ant1 = [0]*10000\n",
    "max1 = [0] *13\n",
    "max2 = []\n",
    "tag_list = {\"tag1\":0, \"tag2\":1, \"tag3\":2, \"tag4\":3, \"tag24\":4, \"tag25\":5, \"tag26\":6, \n",
    "            \"tag27\":7, \"tag1ps\":8,\"tag2ps\":9, \"tag3ps\":10, \"tag4ps\":11}\n",
    "tag_name = [\"tag1\" ,\"tag2\", \"tag3\", \"tag4\", \"tag24\", \"tag25\", \"tag26\", \n",
    "            \"tag27\", \"tag1ps\",\"tag2ps\", \"tag3ps\", \"tag4ps\"]"
   ]
  },
  {
   "cell_type": "code",
   "execution_count": 16,
   "metadata": {},
   "outputs": [],
   "source": [
    "def Maxfunction (tag, Max_tag, start, size, back):\n",
    "    if len(tag) < start + size:\n",
    "        return 0\n",
    "    \n",
    "    Max_tag.append(max((tag[start:start+size])))\n",
    "        \n",
    "#     print(max_values)\n",
    "    Maxfunction(tag, Max_tag, start + size - back, size, back)"
   ]
  },
  {
   "cell_type": "code",
   "execution_count": 17,
   "metadata": {},
   "outputs": [
    {
     "name": "stdout",
     "output_type": "stream",
     "text": [
      "C:\\Users\\nobuh\\Google Drive\\M1\\Research\\Experiments\\2020\\0611\\New\\Cleaned\n"
     ]
    }
   ],
   "source": [
    "cd C:/Users/nobuh/Google Drive/M1/Research/Experiments/2020/0611/New/Cleaned"
   ]
  },
  {
   "cell_type": "code",
   "execution_count": 21,
   "metadata": {},
   "outputs": [
    {
     "name": "stdout",
     "output_type": "stream",
     "text": [
      "69\n",
      "12\n",
      "0.43125\n"
     ]
    }
   ],
   "source": [
    "with open('test14 max.csv', 'w+', newline = \"\") as edit:\n",
    "    writer = csv.writer(edit)\n",
    "    writer.writerow([\"tag1\",\"tag2\",\"tag3\",\"tag4\",\"tag24\",\"tag25\",\"tag26\",\"tag27\",\"tag1ps\",\"tag2ps\",\"tag3ps\",\"tag4ps\",])\n",
    "    with open('test14 cleaned.csv') as csvfile:\n",
    "        reader = csv.reader(csvfile)\n",
    "        \n",
    "        \n",
    "        data = list(reader)\n",
    "        count_row = len(data)-1\n",
    "        print(count_row)\n",
    "        #print(type(data[0]))\n",
    "\n",
    "        tag = [[0 for i in range(count_row)] for j in range(len(tag_name))]\n",
    "        print(len(tag))\n",
    "\n",
    "        for i in range(len(tag_name)):\n",
    "            for j in range(count_row):\n",
    "                tag[i][j] = float(data[j+1][i])\n",
    "\n",
    "        Max_tag = [[] for i in range(len(tag))]\n",
    "\n",
    "        for i in range(len(tag)):            \n",
    "            Maxfunction(tag[i], Max_tag[i], 0, int(count_row/10), 2)\n",
    "        writer.writerows(np.transpose(Max_tag))\n",
    "\n",
    "        print(count_row/160)\n",
    "\n",
    "\n"
   ]
  },
  {
   "cell_type": "code",
   "execution_count": null,
   "metadata": {},
   "outputs": [],
   "source": []
  }
 ],
 "metadata": {
  "kernelspec": {
   "display_name": "Python 3",
   "language": "python",
   "name": "python3"
  },
  "language_info": {
   "codemirror_mode": {
    "name": "ipython",
    "version": 3
   },
   "file_extension": ".py",
   "mimetype": "text/x-python",
   "name": "python",
   "nbconvert_exporter": "python",
   "pygments_lexer": "ipython3",
   "version": "3.7.4"
  }
 },
 "nbformat": 4,
 "nbformat_minor": 2
}
