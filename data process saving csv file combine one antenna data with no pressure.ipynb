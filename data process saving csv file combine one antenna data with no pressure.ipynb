{
 "cells": [
  {
   "cell_type": "code",
   "execution_count": 11,
   "metadata": {},
   "outputs": [],
   "source": [
    "import csv\n",
    "import numpy as np"
   ]
  },
  {
   "cell_type": "code",
   "execution_count": 12,
   "metadata": {},
   "outputs": [],
   "source": [
    "a= \"A001\"\n",
    "b= \"A002\"\n",
    "c= \"A003\"\n",
    "d= \"A004\"\n",
    "e= \"2220\"\n",
    "f= \"2222\"\n",
    "g= \"2223\"\n",
    "h= \"2225\"\n",
    "count = 0\n",
    "\n",
    "pressureList = [\"1\",\"2\",\"3\",\"4\",\"5\",\"6\",\"7\",\"8\",\"9\",\" 000A\",\" 000B\",\" 000C\",\" 000D\",\" 000E\",\" 000F\",\n",
    "                \"10\",\"11\",\"12\",\"13\",\"14\",\"15\",\"16\",\"17\",\"18\",\"19\",\" 001A\",\" 001B\",\" 001C\",\" 001D\",\" 001E\",\" 001F\"]\n",
    "pressureListEdited = [\"1\",\"2\",\"3\",\"4\",\"5\",\"6\",\"7\",\"8\",\"9\",\"000A\",\"000B\",\"000C\",\"000D\",\"000E\",\"000F\"\n",
    "                      ,\"10\",\"11\",\"12\",\"13\",\"14\",\"15\",\"16\",\"17\",\"18\",\"19\",\"001A\",\"001B\",\"001C\",\"001D\",\"001E\",\"001F\"]\n",
    "#numlist = []\n",
    "hexlist = 0"
   ]
  },
  {
   "cell_type": "code",
   "execution_count": 13,
   "metadata": {},
   "outputs": [
    {
     "name": "stdout",
     "output_type": "stream",
     "text": [
      "C:\\Users\\nobuh\\Google Drive\\M1\\Research\\Experiments\\2020\\0701\n"
     ]
    }
   ],
   "source": [
    "cd C:/Users/nobuh/Google Drive/M1/Research/Experiments/2020/0701"
   ]
  },
  {
   "cell_type": "code",
   "execution_count": 23,
   "metadata": {},
   "outputs": [],
   "source": [
    "with open('Clean\\\\A1 ps3 10s.csv', 'w+', newline = \"\") as edit:\n",
    "    writer = csv.writer(edit)\n",
    "    \n",
    "   \n",
    "    writer.writerow([\"tag1\",\"tag2\",\"tag3\",\"tag4\",\"tag24\",\"tag25\",\"tag26\",\"tag27\",\"tag1ps\",\"tag2ps\",\"tag3ps\",\n",
    "                     \"tag4ps\",])\n",
    "    data = [0]*12\n",
    "    data_num =[float(s) for s in data]\n",
    "        #print(data_num)\n",
    "        #print(data)\n",
    "\n",
    "    with open('raw data\\\\test6 A1 ps3 10s.csv', 'r') as k:    \n",
    "        reader = csv.reader(k)\n",
    "\n",
    "        for line in reader:      \n",
    "            if not line:\n",
    "                continue\n",
    "            \n",
    "                \n",
    "            for i in range(len(pressureList)):   \n",
    "                \n",
    "                if line[5] in (None, \"\"):\n",
    "                    line[5] = 0\n",
    "                                            \n",
    "                if line[5] == pressureListEdited[i]:\n",
    "                    hexlist = int(pressureListEdited[i], 16)\n",
    "                    line[5] = hexlist\n",
    "                    \n",
    "                   \n",
    "                    \n",
    "#                 for l in range(len(numlist)):\n",
    "#                     if line[5] == numlist[l]:\n",
    "#                         line[5] = 0\n",
    "#                     else:\n",
    "#                         line[5] = 1\n",
    "                          \n",
    "            if line[3] == 'Antenna:0':\n",
    "                if a in line[0]:              \n",
    "                    data[0] = float(line[2])\n",
    "                    data[8] = (line[5])\n",
    "\n",
    "                elif b in line[0]:\n",
    "                    data[1] = float(line[2])\n",
    "                    data[9] = (line[5])\n",
    "\n",
    "                elif c in line[0]:\n",
    "                    data[2] = float(line[2])\n",
    "                    data[10] = (line[5])\n",
    "\n",
    "                elif d in line[0]:\n",
    "                    data[3] = float(line[2])\n",
    "                    data[11] = (line[5])\n",
    "\n",
    "                elif e in line[0]:\n",
    "                    data[4] = float(line[2])\n",
    "\n",
    "                elif f in line[0]:\n",
    "                    data[5] = float(line[2])\n",
    "\n",
    "                elif g in line[0]:\n",
    "                    data[6] = float(line[2])  \n",
    "\n",
    "                elif h in line[0]:\n",
    "                    data[7] = float(line[2])\n",
    "\n",
    "            else: \n",
    "                data_num =[float(s) for s in data]\n",
    "                writer.writerow(data_num)\n",
    "                data = [0]*12"
   ]
  },
  {
   "cell_type": "code",
   "execution_count": null,
   "metadata": {},
   "outputs": [],
   "source": []
  }
 ],
 "metadata": {
  "kernelspec": {
   "display_name": "Python 3",
   "language": "python",
   "name": "python3"
  },
  "language_info": {
   "codemirror_mode": {
    "name": "ipython",
    "version": 3
   },
   "file_extension": ".py",
   "mimetype": "text/x-python",
   "name": "python",
   "nbconvert_exporter": "python",
   "pygments_lexer": "ipython3",
   "version": "3.7.4"
  }
 },
 "nbformat": 4,
 "nbformat_minor": 2
}
